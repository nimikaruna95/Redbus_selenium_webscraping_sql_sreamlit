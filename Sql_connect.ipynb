{
 "cells": [
  {
   "cell_type": "code",
   "execution_count": 42,
   "metadata": {},
   "outputs": [
    {
     "name": "stdout",
     "output_type": "stream",
     "text": [
      "Requirement already satisfied: mysql in c:\\users\\dell\\desktop\\redbus\\.venv\\lib\\site-packages (0.0.3)\n",
      "Requirement already satisfied: mysqlclient in c:\\users\\dell\\desktop\\redbus\\.venv\\lib\\site-packages (from mysql) (2.2.6)\n",
      "Note: you may need to restart the kernel to use updated packages.\n"
     ]
    }
   ],
   "source": [
    "%pip install mysql"
   ]
  },
  {
   "cell_type": "code",
   "execution_count": 43,
   "metadata": {},
   "outputs": [
    {
     "name": "stdout",
     "output_type": "stream",
     "text": [
      "Requirement already satisfied: mysql-connector-python in c:\\users\\dell\\desktop\\redbus\\.venv\\lib\\site-packages (9.1.0)\n",
      "Note: you may need to restart the kernel to use updated packages.\n"
     ]
    }
   ],
   "source": [
    "%pip install mysql-connector-python"
   ]
  },
  {
   "cell_type": "code",
   "execution_count": 44,
   "metadata": {},
   "outputs": [
    {
     "name": "stdout",
     "output_type": "stream",
     "text": [
      "Requirement already satisfied: pandas in c:\\users\\dell\\desktop\\redbus\\.venv\\lib\\site-packages (2.2.3)\n",
      "Requirement already satisfied: numpy>=1.26.0 in c:\\users\\dell\\desktop\\redbus\\.venv\\lib\\site-packages (from pandas) (2.1.3)\n",
      "Requirement already satisfied: python-dateutil>=2.8.2 in c:\\users\\dell\\desktop\\redbus\\.venv\\lib\\site-packages (from pandas) (2.9.0.post0)\n",
      "Requirement already satisfied: pytz>=2020.1 in c:\\users\\dell\\desktop\\redbus\\.venv\\lib\\site-packages (from pandas) (2024.2)\n",
      "Requirement already satisfied: tzdata>=2022.7 in c:\\users\\dell\\desktop\\redbus\\.venv\\lib\\site-packages (from pandas) (2024.2)\n",
      "Requirement already satisfied: six>=1.5 in c:\\users\\dell\\desktop\\redbus\\.venv\\lib\\site-packages (from python-dateutil>=2.8.2->pandas) (1.16.0)\n",
      "Note: you may need to restart the kernel to use updated packages.\n"
     ]
    }
   ],
   "source": [
    "%pip install pandas"
   ]
  },
  {
   "cell_type": "code",
   "execution_count": 45,
   "metadata": {},
   "outputs": [
    {
     "name": "stdout",
     "output_type": "stream",
     "text": [
      "2.2.3\n"
     ]
    }
   ],
   "source": [
    "import pandas as pd\n",
    "print(pd.__version__)"
   ]
  },
  {
   "cell_type": "code",
   "execution_count": 46,
   "metadata": {},
   "outputs": [
    {
     "name": "stdout",
     "output_type": "stream",
     "text": [
      "Requirement already satisfied: numpy in c:\\users\\dell\\desktop\\redbus\\.venv\\lib\\site-packages (2.1.3)\n",
      "Note: you may need to restart the kernel to use updated packages.\n"
     ]
    }
   ],
   "source": [
    "%pip install numpy"
   ]
  },
  {
   "cell_type": "code",
   "execution_count": 47,
   "metadata": {},
   "outputs": [
    {
     "name": "stdout",
     "output_type": "stream",
     "text": [
      "2.1.3\n"
     ]
    }
   ],
   "source": [
    "import numpy as np\n",
    "print(np.__version__)"
   ]
  },
  {
   "cell_type": "code",
   "execution_count": 48,
   "metadata": {},
   "outputs": [],
   "source": [
    "import pandas as pd\n",
    "import numpy as np"
   ]
  },
  {
   "cell_type": "code",
   "execution_count": 49,
   "metadata": {},
   "outputs": [
    {
     "data": {
      "text/html": [
       "<div>\n",
       "<style scoped>\n",
       "    .dataframe tbody tr th:only-of-type {\n",
       "        vertical-align: middle;\n",
       "    }\n",
       "\n",
       "    .dataframe tbody tr th {\n",
       "        vertical-align: top;\n",
       "    }\n",
       "\n",
       "    .dataframe thead th {\n",
       "        text-align: right;\n",
       "    }\n",
       "</style>\n",
       "<table border=\"1\" class=\"dataframe\">\n",
       "  <thead>\n",
       "    <tr style=\"text-align: right;\">\n",
       "      <th></th>\n",
       "      <th>Bus_name</th>\n",
       "      <th>Bus_type</th>\n",
       "      <th>Start_time</th>\n",
       "      <th>End_time</th>\n",
       "      <th>Total_duration</th>\n",
       "      <th>Price</th>\n",
       "      <th>Seats_Available</th>\n",
       "      <th>Ratings</th>\n",
       "      <th>Route_link</th>\n",
       "      <th>Route_name</th>\n",
       "    </tr>\n",
       "  </thead>\n",
       "  <tbody>\n",
       "    <tr>\n",
       "      <th>0</th>\n",
       "      <td>KSRTC (Kerala) - 52</td>\n",
       "      <td>SWIFT-GARUDA A/C SEATER BUS</td>\n",
       "      <td>12:00</td>\n",
       "      <td>20:20</td>\n",
       "      <td>08h 20m</td>\n",
       "      <td>INR 627</td>\n",
       "      <td>4 Seats available</td>\n",
       "      <td>4.1\\n134</td>\n",
       "      <td>https://www.redbus.in/bus-tickets/bangalore-to...</td>\n",
       "      <td>Bangalore to Kozhikode</td>\n",
       "    </tr>\n",
       "    <tr>\n",
       "      <th>1</th>\n",
       "      <td>KSRTC (Kerala) - 1378</td>\n",
       "      <td>AC MULTI AXLE</td>\n",
       "      <td>13:46</td>\n",
       "      <td>21:25</td>\n",
       "      <td>07h 39m</td>\n",
       "      <td>INR 729</td>\n",
       "      <td>3 Seats available</td>\n",
       "      <td>2.5\\n35</td>\n",
       "      <td>https://www.redbus.in/bus-tickets/bangalore-to...</td>\n",
       "      <td>Bangalore to Kozhikode</td>\n",
       "    </tr>\n",
       "    <tr>\n",
       "      <th>2</th>\n",
       "      <td>KSRTC (Kerala) - 129</td>\n",
       "      <td>SWIFT-GARUDA A/C SEATER BUS</td>\n",
       "      <td>14:15</td>\n",
       "      <td>23:05</td>\n",
       "      <td>08h 50m</td>\n",
       "      <td>INR 627</td>\n",
       "      <td>17 Seats available</td>\n",
       "      <td>4.3\\n96</td>\n",
       "      <td>https://www.redbus.in/bus-tickets/bangalore-to...</td>\n",
       "      <td>Bangalore to Kozhikode</td>\n",
       "    </tr>\n",
       "    <tr>\n",
       "      <th>3</th>\n",
       "      <td>KSRTC (Kerala) - 235</td>\n",
       "      <td>Swift Deluxe Non AC Air Bus (2+2)</td>\n",
       "      <td>15:00</td>\n",
       "      <td>01:00</td>\n",
       "      <td>10h 00m</td>\n",
       "      <td>INR 620</td>\n",
       "      <td>14 Seats available</td>\n",
       "      <td>4.0\\n16</td>\n",
       "      <td>https://www.redbus.in/bus-tickets/bangalore-to...</td>\n",
       "      <td>Bangalore to Kozhikode</td>\n",
       "    </tr>\n",
       "    <tr>\n",
       "      <th>4</th>\n",
       "      <td>KSRTC (Kerala) - 370</td>\n",
       "      <td>AC MULTI AXLE</td>\n",
       "      <td>15:25</td>\n",
       "      <td>23:45</td>\n",
       "      <td>08h 20m</td>\n",
       "      <td>INR 729</td>\n",
       "      <td>28 Seats available</td>\n",
       "      <td>2.9\\n42</td>\n",
       "      <td>https://www.redbus.in/bus-tickets/bangalore-to...</td>\n",
       "      <td>Bangalore to Kozhikode</td>\n",
       "    </tr>\n",
       "    <tr>\n",
       "      <th>...</th>\n",
       "      <td>...</td>\n",
       "      <td>...</td>\n",
       "      <td>...</td>\n",
       "      <td>...</td>\n",
       "      <td>...</td>\n",
       "      <td>...</td>\n",
       "      <td>...</td>\n",
       "      <td>...</td>\n",
       "      <td>...</td>\n",
       "      <td>...</td>\n",
       "    </tr>\n",
       "    <tr>\n",
       "      <th>4079</th>\n",
       "      <td>Morning Star Travels</td>\n",
       "      <td>Scania AC Multi Axle Sleeper (2+1)</td>\n",
       "      <td>04:55</td>\n",
       "      <td>07:30</td>\n",
       "      <td>02h 35m</td>\n",
       "      <td>INR 1190</td>\n",
       "      <td>20 Seats available</td>\n",
       "      <td>2.7</td>\n",
       "      <td>https://www.redbus.in/bus-tickets/ananthapur-t...</td>\n",
       "      <td>Anantapur (andhra pradesh) to Bangalore</td>\n",
       "    </tr>\n",
       "    <tr>\n",
       "      <th>4080</th>\n",
       "      <td>Morning Star Travels</td>\n",
       "      <td>A/C Sleeper (2+1)</td>\n",
       "      <td>04:15</td>\n",
       "      <td>07:00</td>\n",
       "      <td>02h 45m</td>\n",
       "      <td>INR 1090</td>\n",
       "      <td>7 Seats available</td>\n",
       "      <td>2.7</td>\n",
       "      <td>https://www.redbus.in/bus-tickets/ananthapur-t...</td>\n",
       "      <td>Anantapur (andhra pradesh) to Bangalore</td>\n",
       "    </tr>\n",
       "    <tr>\n",
       "      <th>4081</th>\n",
       "      <td>Morning Star Travels</td>\n",
       "      <td>A/C Sleeper (2+1)</td>\n",
       "      <td>01:40</td>\n",
       "      <td>05:00</td>\n",
       "      <td>03h 20m</td>\n",
       "      <td>INR 1190</td>\n",
       "      <td>29 Seats available</td>\n",
       "      <td>2.7</td>\n",
       "      <td>https://www.redbus.in/bus-tickets/ananthapur-t...</td>\n",
       "      <td>Anantapur (andhra pradesh) to Bangalore</td>\n",
       "    </tr>\n",
       "    <tr>\n",
       "      <th>4082</th>\n",
       "      <td>KKaveri Travels</td>\n",
       "      <td>Non A/C Seater / Sleeper (2+1)</td>\n",
       "      <td>23:59</td>\n",
       "      <td>05:00</td>\n",
       "      <td>05h 01m</td>\n",
       "      <td>INR 990</td>\n",
       "      <td>33 Seats available</td>\n",
       "      <td>2.5</td>\n",
       "      <td>https://www.redbus.in/bus-tickets/ananthapur-t...</td>\n",
       "      <td>Anantapur (andhra pradesh) to Bangalore</td>\n",
       "    </tr>\n",
       "    <tr>\n",
       "      <th>4083</th>\n",
       "      <td>Northern Travels</td>\n",
       "      <td>Bharat Benz A/C Sleeper (2+1)</td>\n",
       "      <td>05:30</td>\n",
       "      <td>09:30</td>\n",
       "      <td>04h 00m</td>\n",
       "      <td>759</td>\n",
       "      <td>15 Seats available</td>\n",
       "      <td>2.0</td>\n",
       "      <td>https://www.redbus.in/bus-tickets/ananthapur-t...</td>\n",
       "      <td>Anantapur (andhra pradesh) to Bangalore</td>\n",
       "    </tr>\n",
       "  </tbody>\n",
       "</table>\n",
       "<p>4084 rows × 10 columns</p>\n",
       "</div>"
      ],
      "text/plain": [
       "                   Bus_name                            Bus_type Start_time  \\\n",
       "0       KSRTC (Kerala) - 52         SWIFT-GARUDA A/C SEATER BUS      12:00   \n",
       "1     KSRTC (Kerala) - 1378                       AC MULTI AXLE      13:46   \n",
       "2      KSRTC (Kerala) - 129         SWIFT-GARUDA A/C SEATER BUS      14:15   \n",
       "3      KSRTC (Kerala) - 235   Swift Deluxe Non AC Air Bus (2+2)      15:00   \n",
       "4      KSRTC (Kerala) - 370                       AC MULTI AXLE      15:25   \n",
       "...                     ...                                 ...        ...   \n",
       "4079   Morning Star Travels  Scania AC Multi Axle Sleeper (2+1)      04:55   \n",
       "4080   Morning Star Travels                   A/C Sleeper (2+1)      04:15   \n",
       "4081   Morning Star Travels                   A/C Sleeper (2+1)      01:40   \n",
       "4082        KKaveri Travels      Non A/C Seater / Sleeper (2+1)      23:59   \n",
       "4083       Northern Travels       Bharat Benz A/C Sleeper (2+1)      05:30   \n",
       "\n",
       "     End_time Total_duration     Price     Seats_Available   Ratings  \\\n",
       "0       20:20        08h 20m   INR 627   4 Seats available  4.1\\n134   \n",
       "1       21:25        07h 39m   INR 729   3 Seats available   2.5\\n35   \n",
       "2       23:05        08h 50m   INR 627  17 Seats available   4.3\\n96   \n",
       "3       01:00        10h 00m   INR 620  14 Seats available   4.0\\n16   \n",
       "4       23:45        08h 20m   INR 729  28 Seats available   2.9\\n42   \n",
       "...       ...            ...       ...                 ...       ...   \n",
       "4079    07:30        02h 35m  INR 1190  20 Seats available       2.7   \n",
       "4080    07:00        02h 45m  INR 1090   7 Seats available       2.7   \n",
       "4081    05:00        03h 20m  INR 1190  29 Seats available       2.7   \n",
       "4082    05:00        05h 01m   INR 990  33 Seats available       2.5   \n",
       "4083    09:30        04h 00m       759  15 Seats available       2.0   \n",
       "\n",
       "                                             Route_link  \\\n",
       "0     https://www.redbus.in/bus-tickets/bangalore-to...   \n",
       "1     https://www.redbus.in/bus-tickets/bangalore-to...   \n",
       "2     https://www.redbus.in/bus-tickets/bangalore-to...   \n",
       "3     https://www.redbus.in/bus-tickets/bangalore-to...   \n",
       "4     https://www.redbus.in/bus-tickets/bangalore-to...   \n",
       "...                                                 ...   \n",
       "4079  https://www.redbus.in/bus-tickets/ananthapur-t...   \n",
       "4080  https://www.redbus.in/bus-tickets/ananthapur-t...   \n",
       "4081  https://www.redbus.in/bus-tickets/ananthapur-t...   \n",
       "4082  https://www.redbus.in/bus-tickets/ananthapur-t...   \n",
       "4083  https://www.redbus.in/bus-tickets/ananthapur-t...   \n",
       "\n",
       "                                   Route_name  \n",
       "0                      Bangalore to Kozhikode  \n",
       "1                      Bangalore to Kozhikode  \n",
       "2                      Bangalore to Kozhikode  \n",
       "3                      Bangalore to Kozhikode  \n",
       "4                      Bangalore to Kozhikode  \n",
       "...                                       ...  \n",
       "4079  Anantapur (andhra pradesh) to Bangalore  \n",
       "4080  Anantapur (andhra pradesh) to Bangalore  \n",
       "4081  Anantapur (andhra pradesh) to Bangalore  \n",
       "4082  Anantapur (andhra pradesh) to Bangalore  \n",
       "4083  Anantapur (andhra pradesh) to Bangalore  \n",
       "\n",
       "[4084 rows x 10 columns]"
      ]
     },
     "execution_count": 49,
     "metadata": {},
     "output_type": "execute_result"
    }
   ],
   "source": [
    "\n",
    "df_kerala_1= pd.read_csv(\"df_kerala_1.csv\")\n",
    "df_chandigarh_1=pd.read_csv(\"df_chandigarh_1.csv\")\n",
    "df_telugana_1=pd.read_csv(\"df_telugana_1.csv\")\n",
    "df_south_bengal_1=pd.read_csv(\"df_south_bengal_1.csv\")\n",
    "df_bihar_1=pd.read_csv(\"df_bihar_1.csv\")\n",
    "df_punjab_1=pd.read_csv(\"df_punjab_1.csv\")\n",
    "df_kadamba_1=pd.read_csv(\"df_kadamba_1.csv\")\n",
    "df_westbengal_1=pd.read_csv(\"df_westbengal_1.csv\")\n",
    "df_rajasthan_1=pd.read_csv(\"df_rajasthan_1.csv\")\n",
    "df_andhra_1=pd.read_csv(\"df_andhra_1.csv\")\n",
    "\n",
    "Final_df=pd.concat([df_kerala_1,df_chandigarh_1,df_telugana_1,df_bihar_1,df_punjab_1,df_kadamba_1,df_westbengal_1,df_rajasthan_1,df_andhra_1],ignore_index=True)\n",
    "Final_df"
   ]
  },
  {
   "cell_type": "code",
   "execution_count": 50,
   "metadata": {},
   "outputs": [
    {
     "name": "stdout",
     "output_type": "stream",
     "text": [
      "<class 'pandas.core.frame.DataFrame'>\n",
      "RangeIndex: 4084 entries, 0 to 4083\n",
      "Data columns (total 10 columns):\n",
      " #   Column           Non-Null Count  Dtype \n",
      "---  ------           --------------  ----- \n",
      " 0   Bus_name         4079 non-null   object\n",
      " 1   Bus_type         4078 non-null   object\n",
      " 2   Start_time       4079 non-null   object\n",
      " 3   End_time         4079 non-null   object\n",
      " 4   Total_duration   4079 non-null   object\n",
      " 5   Price            4079 non-null   object\n",
      " 6   Seats_Available  4079 non-null   object\n",
      " 7   Ratings          4079 non-null   object\n",
      " 8   Route_link       4084 non-null   object\n",
      " 9   Route_name       4084 non-null   object\n",
      "dtypes: object(10)\n",
      "memory usage: 319.2+ KB\n"
     ]
    }
   ],
   "source": [
    "Final_df.info()"
   ]
  },
  {
   "cell_type": "code",
   "execution_count": 51,
   "metadata": {},
   "outputs": [
    {
     "data": {
      "text/plain": [
       "0        627.0\n",
       "1        729.0\n",
       "2        627.0\n",
       "3        620.0\n",
       "4        729.0\n",
       "         ...  \n",
       "4079    1190.0\n",
       "4080    1090.0\n",
       "4081    1190.0\n",
       "4082     990.0\n",
       "4083     759.0\n",
       "Name: Price, Length: 4084, dtype: float64"
      ]
     },
     "execution_count": 51,
     "metadata": {},
     "output_type": "execute_result"
    }
   ],
   "source": [
    "Final_df[\"Price\"]=Final_df[\"Price\"].str.replace(\"INR\",\"\")\n",
    "Final_df[\"Price\"]=Final_df[\"Price\"].astype(float)\n",
    "Final_df[\"Price\"].fillna(0) "
   ]
  },
  {
   "cell_type": "code",
   "execution_count": 52,
   "metadata": {},
   "outputs": [
    {
     "name": "stdout",
     "output_type": "stream",
     "text": [
      "<class 'pandas.core.frame.DataFrame'>\n",
      "RangeIndex: 4084 entries, 0 to 4083\n",
      "Data columns (total 10 columns):\n",
      " #   Column           Non-Null Count  Dtype  \n",
      "---  ------           --------------  -----  \n",
      " 0   Bus_name         4079 non-null   object \n",
      " 1   Bus_type         4078 non-null   object \n",
      " 2   Start_time       4079 non-null   object \n",
      " 3   End_time         4079 non-null   object \n",
      " 4   Total_duration   4079 non-null   object \n",
      " 5   Price            4079 non-null   float64\n",
      " 6   Seats_Available  4079 non-null   object \n",
      " 7   Ratings          4079 non-null   object \n",
      " 8   Route_link       4084 non-null   object \n",
      " 9   Route_name       4084 non-null   object \n",
      "dtypes: float64(1), object(9)\n",
      "memory usage: 319.2+ KB\n"
     ]
    }
   ],
   "source": [
    "Final_df.info()"
   ]
  },
  {
   "cell_type": "code",
   "execution_count": 53,
   "metadata": {},
   "outputs": [
    {
     "name": "stderr",
     "output_type": "stream",
     "text": [
      "C:\\Users\\DELL\\AppData\\Local\\Temp\\ipykernel_7044\\2582007703.py:5: FutureWarning: A value is trying to be set on a copy of a DataFrame or Series through chained assignment using an inplace method.\n",
      "The behavior will change in pandas 3.0. This inplace method will never work because the intermediate object on which we are setting values always behaves as a copy.\n",
      "\n",
      "For example, when doing 'df[col].method(value, inplace=True)', try using 'df.method({col: value}, inplace=True)' or df[col] = df[col].method(value) instead, to perform the operation inplace on the original object.\n",
      "\n",
      "\n",
      "  Final_df[\"Ratings\"].fillna(0,inplace=True)\n"
     ]
    }
   ],
   "source": [
    "Final_df[\"Ratings\"]=Final_df[\"Ratings\"].str.replace(\"New\",\"\")\n",
    "Final_df[\"Ratings\"]=Final_df[\"Ratings\"].str.strip()\n",
    "Final_df[\"Ratings\"]=Final_df[\"Ratings\"].str.split().str[0]\n",
    "Final_df[\"Ratings\"] = pd.to_numeric(Final_df[\"Ratings\"], errors='coerce')\n",
    "Final_df[\"Ratings\"].fillna(0,inplace=True) "
   ]
  },
  {
   "cell_type": "code",
   "execution_count": 54,
   "metadata": {},
   "outputs": [],
   "source": [
    "Final_df[\"Ratings\"] = Final_df[\"Ratings\"].fillna(0)\n"
   ]
  },
  {
   "cell_type": "code",
   "execution_count": null,
   "metadata": {},
   "outputs": [],
   "source": [
    "\n",
    "Final_df[\"Ratings\"] = Final_df[\"Ratings\"].fillna(\"\").astype(str)\n",
    "\n",
    "\n",
    "Final_df[\"Ratings\"] = Final_df[\"Ratings\"].str.replace(\"New\", \"\")  \n",
    "Final_df[\"Ratings\"] = Final_df[\"Ratings\"].str.strip()  \n",
    "Final_df[\"Ratings\"] = Final_df[\"Ratings\"].str.split().str[0]  \n",
    "Final_df[\"Ratings\"] = pd.to_numeric(Final_df[\"Ratings\"], errors='coerce')  \n",
    "Final_df[\"Ratings\"] = Final_df[\"Ratings\"].fillna(0)  \n"
   ]
  },
  {
   "cell_type": "code",
   "execution_count": 56,
   "metadata": {},
   "outputs": [
    {
     "name": "stdout",
     "output_type": "stream",
     "text": [
      "<class 'pandas.core.frame.DataFrame'>\n",
      "RangeIndex: 4084 entries, 0 to 4083\n",
      "Data columns (total 10 columns):\n",
      " #   Column           Non-Null Count  Dtype  \n",
      "---  ------           --------------  -----  \n",
      " 0   Bus_name         4079 non-null   object \n",
      " 1   Bus_type         4078 non-null   object \n",
      " 2   Start_time       4079 non-null   object \n",
      " 3   End_time         4079 non-null   object \n",
      " 4   Total_duration   4079 non-null   object \n",
      " 5   Price            4079 non-null   float64\n",
      " 6   Seats_Available  4079 non-null   object \n",
      " 7   Ratings          4084 non-null   float64\n",
      " 8   Route_link       4084 non-null   object \n",
      " 9   Route_name       4084 non-null   object \n",
      "dtypes: float64(2), object(8)\n",
      "memory usage: 319.2+ KB\n"
     ]
    }
   ],
   "source": [
    "Final_df.info()"
   ]
  },
  {
   "cell_type": "code",
   "execution_count": 57,
   "metadata": {},
   "outputs": [],
   "source": [
    "Final_df = Final_df[Final_df[\"Price\"] <= 9000]"
   ]
  },
  {
   "cell_type": "code",
   "execution_count": 58,
   "metadata": {},
   "outputs": [
    {
     "name": "stdout",
     "output_type": "stream",
     "text": [
      "<class 'pandas.core.frame.DataFrame'>\n",
      "Index: 4078 entries, 0 to 4083\n",
      "Data columns (total 10 columns):\n",
      " #   Column           Non-Null Count  Dtype  \n",
      "---  ------           --------------  -----  \n",
      " 0   Bus_name         4078 non-null   object \n",
      " 1   Bus_type         4077 non-null   object \n",
      " 2   Start_time       4078 non-null   object \n",
      " 3   End_time         4078 non-null   object \n",
      " 4   Total_duration   4078 non-null   object \n",
      " 5   Price            4078 non-null   float64\n",
      " 6   Seats_Available  4078 non-null   object \n",
      " 7   Ratings          4078 non-null   float64\n",
      " 8   Route_link       4078 non-null   object \n",
      " 9   Route_name       4078 non-null   object \n",
      "dtypes: float64(2), object(8)\n",
      "memory usage: 350.5+ KB\n"
     ]
    }
   ],
   "source": [
    "Final_df.info()"
   ]
  },
  {
   "cell_type": "code",
   "execution_count": 59,
   "metadata": {},
   "outputs": [],
   "source": [
    "Final_df = Final_df.replace({np.nan: None})"
   ]
  },
  {
   "cell_type": "code",
   "execution_count": 60,
   "metadata": {},
   "outputs": [
    {
     "name": "stdout",
     "output_type": "stream",
     "text": [
      "<class 'pandas.core.frame.DataFrame'>\n",
      "Index: 4078 entries, 0 to 4083\n",
      "Data columns (total 10 columns):\n",
      " #   Column           Non-Null Count  Dtype  \n",
      "---  ------           --------------  -----  \n",
      " 0   Bus_name         4078 non-null   object \n",
      " 1   Bus_type         4077 non-null   object \n",
      " 2   Start_time       4078 non-null   object \n",
      " 3   End_time         4078 non-null   object \n",
      " 4   Total_duration   4078 non-null   object \n",
      " 5   Price            4078 non-null   float64\n",
      " 6   Seats_Available  4078 non-null   object \n",
      " 7   Ratings          4078 non-null   float64\n",
      " 8   Route_link       4078 non-null   object \n",
      " 9   Route_name       4078 non-null   object \n",
      "dtypes: float64(2), object(8)\n",
      "memory usage: 350.5+ KB\n"
     ]
    }
   ],
   "source": [
    "Final_df.info()"
   ]
  },
  {
   "cell_type": "code",
   "execution_count": 61,
   "metadata": {},
   "outputs": [],
   "source": [
    "path=r\"C:/Users/DELL/Desktop/RedBus/df_Full_busdetails.csv\"\n",
    "Final_df.to_csv(path,index=False)"
   ]
  },
  {
   "cell_type": "code",
   "execution_count": 62,
   "metadata": {},
   "outputs": [
    {
     "name": "stdout",
     "output_type": "stream",
     "text": [
      "<class 'pandas.core.frame.DataFrame'>\n",
      "Index: 4078 entries, 0 to 4083\n",
      "Data columns (total 10 columns):\n",
      " #   Column           Non-Null Count  Dtype  \n",
      "---  ------           --------------  -----  \n",
      " 0   Bus_name         4078 non-null   object \n",
      " 1   Bus_type         4077 non-null   object \n",
      " 2   Start_time       4078 non-null   object \n",
      " 3   End_time         4078 non-null   object \n",
      " 4   Total_duration   4078 non-null   object \n",
      " 5   Price            4078 non-null   float64\n",
      " 6   Seats_Available  4078 non-null   object \n",
      " 7   Ratings          4078 non-null   float64\n",
      " 8   Route_link       4078 non-null   object \n",
      " 9   Route_name       4078 non-null   object \n",
      "dtypes: float64(2), object(8)\n",
      "memory usage: 350.5+ KB\n"
     ]
    }
   ],
   "source": [
    "Final_df.info()"
   ]
  },
  {
   "cell_type": "code",
   "execution_count": 63,
   "metadata": {},
   "outputs": [
    {
     "name": "stdout",
     "output_type": "stream",
     "text": [
      "1\n",
      "0\n"
     ]
    }
   ],
   "source": [
    "print(Final_df['Bus_type'].isnull().sum()) \n",
    "Final_df['Bus_type'] = Final_df['Bus_type'].fillna('Unknown')\n",
    "print(Final_df['Bus_type'].isnull().sum())"
   ]
  },
  {
   "cell_type": "code",
   "execution_count": 64,
   "metadata": {},
   "outputs": [
    {
     "name": "stdout",
     "output_type": "stream",
     "text": [
      "<class 'pandas.core.frame.DataFrame'>\n",
      "Index: 4078 entries, 0 to 4083\n",
      "Data columns (total 10 columns):\n",
      " #   Column           Non-Null Count  Dtype  \n",
      "---  ------           --------------  -----  \n",
      " 0   Bus_name         4078 non-null   object \n",
      " 1   Bus_type         4078 non-null   object \n",
      " 2   Start_time       4078 non-null   object \n",
      " 3   End_time         4078 non-null   object \n",
      " 4   Total_duration   4078 non-null   object \n",
      " 5   Price            4078 non-null   float64\n",
      " 6   Seats_Available  4078 non-null   object \n",
      " 7   Ratings          4078 non-null   float64\n",
      " 8   Route_link       4078 non-null   object \n",
      " 9   Route_name       4078 non-null   object \n",
      "dtypes: float64(2), object(8)\n",
      "memory usage: 350.5+ KB\n"
     ]
    }
   ],
   "source": [
    "Final_df.info()"
   ]
  },
  {
   "cell_type": "code",
   "execution_count": 65,
   "metadata": {},
   "outputs": [],
   "source": [
    "Final_df = Final_df.fillna({'Seats_Available': 0, 'Bus_type': 'Unknown'})"
   ]
  },
  {
   "cell_type": "code",
   "execution_count": 66,
   "metadata": {},
   "outputs": [
    {
     "name": "stdout",
     "output_type": "stream",
     "text": [
      "<class 'pandas.core.frame.DataFrame'>\n",
      "Index: 4078 entries, 0 to 4083\n",
      "Data columns (total 10 columns):\n",
      " #   Column           Non-Null Count  Dtype  \n",
      "---  ------           --------------  -----  \n",
      " 0   Bus_name         4078 non-null   object \n",
      " 1   Bus_type         4078 non-null   object \n",
      " 2   Start_time       4078 non-null   object \n",
      " 3   End_time         4078 non-null   object \n",
      " 4   Total_duration   4078 non-null   object \n",
      " 5   Price            4078 non-null   float64\n",
      " 6   Seats_Available  4078 non-null   object \n",
      " 7   Ratings          4078 non-null   float64\n",
      " 8   Route_link       4078 non-null   object \n",
      " 9   Route_name       4078 non-null   object \n",
      "dtypes: float64(2), object(8)\n",
      "memory usage: 350.5+ KB\n"
     ]
    }
   ],
   "source": [
    "Final_df.info()"
   ]
  },
  {
   "cell_type": "code",
   "execution_count": 67,
   "metadata": {},
   "outputs": [
    {
     "name": "stdout",
     "output_type": "stream",
     "text": [
      "                   Bus_name                            Bus_type Start_time  \\\n",
      "0       KSRTC (Kerala) - 52         SWIFT-GARUDA A/C SEATER BUS      12:00   \n",
      "1     KSRTC (Kerala) - 1378                       AC MULTI AXLE      13:46   \n",
      "2      KSRTC (Kerala) - 129         SWIFT-GARUDA A/C SEATER BUS      14:15   \n",
      "3      KSRTC (Kerala) - 235   Swift Deluxe Non AC Air Bus (2+2)      15:00   \n",
      "4      KSRTC (Kerala) - 370                       AC MULTI AXLE      15:25   \n",
      "...                     ...                                 ...        ...   \n",
      "4079   Morning Star Travels  Scania AC Multi Axle Sleeper (2+1)      04:55   \n",
      "4080   Morning Star Travels                   A/C Sleeper (2+1)      04:15   \n",
      "4081   Morning Star Travels                   A/C Sleeper (2+1)      01:40   \n",
      "4082        KKaveri Travels      Non A/C Seater / Sleeper (2+1)      23:59   \n",
      "4083       Northern Travels       Bharat Benz A/C Sleeper (2+1)      05:30   \n",
      "\n",
      "     End_time Total_duration   Price     Seats_Available  Ratings  \\\n",
      "0       20:20        08h 20m   627.0   4 Seats available      4.1   \n",
      "1       21:25        07h 39m   729.0   3 Seats available      2.5   \n",
      "2       23:05        08h 50m   627.0  17 Seats available      4.3   \n",
      "3       01:00        10h 00m   620.0  14 Seats available      4.0   \n",
      "4       23:45        08h 20m   729.0  28 Seats available      2.9   \n",
      "...       ...            ...     ...                 ...      ...   \n",
      "4079    07:30        02h 35m  1190.0  20 Seats available      2.7   \n",
      "4080    07:00        02h 45m  1090.0   7 Seats available      2.7   \n",
      "4081    05:00        03h 20m  1190.0  29 Seats available      2.7   \n",
      "4082    05:00        05h 01m   990.0  33 Seats available      2.5   \n",
      "4083    09:30        04h 00m   759.0  15 Seats available      2.0   \n",
      "\n",
      "                                             Route_link  \\\n",
      "0     https://www.redbus.in/bus-tickets/bangalore-to...   \n",
      "1     https://www.redbus.in/bus-tickets/bangalore-to...   \n",
      "2     https://www.redbus.in/bus-tickets/bangalore-to...   \n",
      "3     https://www.redbus.in/bus-tickets/bangalore-to...   \n",
      "4     https://www.redbus.in/bus-tickets/bangalore-to...   \n",
      "...                                                 ...   \n",
      "4079  https://www.redbus.in/bus-tickets/ananthapur-t...   \n",
      "4080  https://www.redbus.in/bus-tickets/ananthapur-t...   \n",
      "4081  https://www.redbus.in/bus-tickets/ananthapur-t...   \n",
      "4082  https://www.redbus.in/bus-tickets/ananthapur-t...   \n",
      "4083  https://www.redbus.in/bus-tickets/ananthapur-t...   \n",
      "\n",
      "                                   Route_name  \n",
      "0                      Bangalore to Kozhikode  \n",
      "1                      Bangalore to Kozhikode  \n",
      "2                      Bangalore to Kozhikode  \n",
      "3                      Bangalore to Kozhikode  \n",
      "4                      Bangalore to Kozhikode  \n",
      "...                                       ...  \n",
      "4079  Anantapur (andhra pradesh) to Bangalore  \n",
      "4080  Anantapur (andhra pradesh) to Bangalore  \n",
      "4081  Anantapur (andhra pradesh) to Bangalore  \n",
      "4082  Anantapur (andhra pradesh) to Bangalore  \n",
      "4083  Anantapur (andhra pradesh) to Bangalore  \n",
      "\n",
      "[4078 rows x 10 columns]\n"
     ]
    }
   ],
   "source": [
    "print(Final_df)\n"
   ]
  },
  {
   "cell_type": "code",
   "execution_count": 68,
   "metadata": {},
   "outputs": [
    {
     "name": "stdout",
     "output_type": "stream",
     "text": [
      "                Bus_name                           Bus_type Start_time  \\\n",
      "0    KSRTC (Kerala) - 52        SWIFT-GARUDA A/C SEATER BUS      12:00   \n",
      "1  KSRTC (Kerala) - 1378                      AC MULTI AXLE      13:46   \n",
      "2   KSRTC (Kerala) - 129        SWIFT-GARUDA A/C SEATER BUS      14:15   \n",
      "3   KSRTC (Kerala) - 235  Swift Deluxe Non AC Air Bus (2+2)      15:00   \n",
      "4   KSRTC (Kerala) - 370                      AC MULTI AXLE      15:25   \n",
      "\n",
      "  End_time Total_duration  Price     Seats_Available  Ratings  \\\n",
      "0    20:20        08h 20m  627.0   4 Seats available      4.1   \n",
      "1    21:25        07h 39m  729.0   3 Seats available      2.5   \n",
      "2    23:05        08h 50m  627.0  17 Seats available      4.3   \n",
      "3    01:00        10h 00m  620.0  14 Seats available      4.0   \n",
      "4    23:45        08h 20m  729.0  28 Seats available      2.9   \n",
      "\n",
      "                                          Route_link              Route_name  \n",
      "0  https://www.redbus.in/bus-tickets/bangalore-to...  Bangalore to Kozhikode  \n",
      "1  https://www.redbus.in/bus-tickets/bangalore-to...  Bangalore to Kozhikode  \n",
      "2  https://www.redbus.in/bus-tickets/bangalore-to...  Bangalore to Kozhikode  \n",
      "3  https://www.redbus.in/bus-tickets/bangalore-to...  Bangalore to Kozhikode  \n",
      "4  https://www.redbus.in/bus-tickets/bangalore-to...  Bangalore to Kozhikode  \n"
     ]
    }
   ],
   "source": [
    "print(Final_df.head())"
   ]
  },
  {
   "cell_type": "code",
   "execution_count": 69,
   "metadata": {},
   "outputs": [
    {
     "name": "stdout",
     "output_type": "stream",
     "text": [
      "                Bus_name                                   Bus_type  \\\n",
      "0    KSRTC (Kerala) - 52                SWIFT-GARUDA A/C SEATER BUS   \n",
      "1  KSRTC (Kerala) - 1378                              AC MULTI AXLE   \n",
      "2   KSRTC (Kerala) - 129                SWIFT-GARUDA A/C SEATER BUS   \n",
      "3   KSRTC (Kerala) - 235          Swift Deluxe Non AC Air Bus (2+2)   \n",
      "4   KSRTC (Kerala) - 370                              AC MULTI AXLE   \n",
      "5    KSRTC (Kerala) - 97          Swift Deluxe Non AC Air Bus (2+2)   \n",
      "6   KSRTC (Kerala) - 380          Swift Deluxe Non AC Air Bus (2+2)   \n",
      "7   KSRTC (Kerala) - 553  Super Express Non AC Seater Air Bus (2+2)   \n",
      "8    KSRTC (Kerala) - 51          Swift Deluxe Non AC Air Bus (2+2)   \n",
      "9   KSRTC (Kerala) - 789             Super Fast Non AC Seater (2+3)   \n",
      "\n",
      "  Start_time End_time Total_duration  Price     Seats_Available  Ratings  \\\n",
      "0      12:00    20:20        08h 20m  627.0   4 Seats available      4.1   \n",
      "1      13:46    21:25        07h 39m  729.0   3 Seats available      2.5   \n",
      "2      14:15    23:05        08h 50m  627.0  17 Seats available      4.3   \n",
      "3      15:00    01:00        10h 00m  620.0  14 Seats available      4.0   \n",
      "4      15:25    23:45        08h 20m  729.0  28 Seats available      2.9   \n",
      "5      16:00    00:45        08h 45m  567.0  22 Seats available      3.5   \n",
      "6      16:15    01:00        08h 45m  567.0   9 Seats available      4.6   \n",
      "7      16:45    02:15        09h 30m  640.0  17 Seats available      3.5   \n",
      "8      19:00    04:30        09h 30m  640.0  33 Seats available      3.9   \n",
      "9      20:00    03:45        07h 45m  473.0  17 Seats available      3.8   \n",
      "\n",
      "                                          Route_link              Route_name  \n",
      "0  https://www.redbus.in/bus-tickets/bangalore-to...  Bangalore to Kozhikode  \n",
      "1  https://www.redbus.in/bus-tickets/bangalore-to...  Bangalore to Kozhikode  \n",
      "2  https://www.redbus.in/bus-tickets/bangalore-to...  Bangalore to Kozhikode  \n",
      "3  https://www.redbus.in/bus-tickets/bangalore-to...  Bangalore to Kozhikode  \n",
      "4  https://www.redbus.in/bus-tickets/bangalore-to...  Bangalore to Kozhikode  \n",
      "5  https://www.redbus.in/bus-tickets/bangalore-to...  Bangalore to Kozhikode  \n",
      "6  https://www.redbus.in/bus-tickets/bangalore-to...  Bangalore to Kozhikode  \n",
      "7  https://www.redbus.in/bus-tickets/bangalore-to...  Bangalore to Kozhikode  \n",
      "8  https://www.redbus.in/bus-tickets/bangalore-to...  Bangalore to Kozhikode  \n",
      "9  https://www.redbus.in/bus-tickets/bangalore-to...  Bangalore to Kozhikode  \n"
     ]
    }
   ],
   "source": [
    "print(Final_df.head(10))\n"
   ]
  },
  {
   "cell_type": "code",
   "execution_count": null,
   "metadata": {},
   "outputs": [
    {
     "name": "stdout",
     "output_type": "stream",
     "text": [
      "                  Bus_name                            Bus_type Start_time  \\\n",
      "4079  Morning Star Travels  Scania AC Multi Axle Sleeper (2+1)      04:55   \n",
      "4080  Morning Star Travels                   A/C Sleeper (2+1)      04:15   \n",
      "4081  Morning Star Travels                   A/C Sleeper (2+1)      01:40   \n",
      "4082       KKaveri Travels      Non A/C Seater / Sleeper (2+1)      23:59   \n",
      "4083      Northern Travels       Bharat Benz A/C Sleeper (2+1)      05:30   \n",
      "\n",
      "     End_time Total_duration   Price     Seats_Available  Ratings  \\\n",
      "4079    07:30        02h 35m  1190.0  20 Seats available      2.7   \n",
      "4080    07:00        02h 45m  1090.0   7 Seats available      2.7   \n",
      "4081    05:00        03h 20m  1190.0  29 Seats available      2.7   \n",
      "4082    05:00        05h 01m   990.0  33 Seats available      2.5   \n",
      "4083    09:30        04h 00m   759.0  15 Seats available      2.0   \n",
      "\n",
      "                                             Route_link  \\\n",
      "4079  https://www.redbus.in/bus-tickets/ananthapur-t...   \n",
      "4080  https://www.redbus.in/bus-tickets/ananthapur-t...   \n",
      "4081  https://www.redbus.in/bus-tickets/ananthapur-t...   \n",
      "4082  https://www.redbus.in/bus-tickets/ananthapur-t...   \n",
      "4083  https://www.redbus.in/bus-tickets/ananthapur-t...   \n",
      "\n",
      "                                   Route_name  \n",
      "4079  Anantapur (andhra pradesh) to Bangalore  \n",
      "4080  Anantapur (andhra pradesh) to Bangalore  \n",
      "4081  Anantapur (andhra pradesh) to Bangalore  \n",
      "4082  Anantapur (andhra pradesh) to Bangalore  \n",
      "4083  Anantapur (andhra pradesh) to Bangalore  \n"
     ]
    }
   ],
   "source": [
    "\n",
    "print(Final_df.tail())\n"
   ]
  },
  {
   "cell_type": "code",
   "execution_count": null,
   "metadata": {},
   "outputs": [
    {
     "name": "stdout",
     "output_type": "stream",
     "text": [
      "                        Bus_name                               Bus_type  \\\n",
      "4074           Skyline Transport         Non A/C Seater / Sleeper (2+1)   \n",
      "4075            Northern Travels  Bharat Benz A/C Seater /Sleeper (2+1)   \n",
      "4076  Dream Line Travels Pvt Ltd                   VE A/C Sleeper (2+1)   \n",
      "4077  BHAIRAVA TOURS AND TRAVELS         Non A/C Seater / Sleeper (2+1)   \n",
      "4078                    Yolo Bus          Bharat Benz A/C Sleeper (2+1)   \n",
      "4079        Morning Star Travels     Scania AC Multi Axle Sleeper (2+1)   \n",
      "4080        Morning Star Travels                      A/C Sleeper (2+1)   \n",
      "4081        Morning Star Travels                      A/C Sleeper (2+1)   \n",
      "4082             KKaveri Travels         Non A/C Seater / Sleeper (2+1)   \n",
      "4083            Northern Travels          Bharat Benz A/C Sleeper (2+1)   \n",
      "\n",
      "     Start_time End_time Total_duration   Price     Seats_Available  Ratings  \\\n",
      "4074      23:15    04:30        05h 15m  3999.0  45 Seats available      3.9   \n",
      "4075      05:00    08:30        03h 30m   827.0  39 Seats available      2.0   \n",
      "4076      04:20    10:00        05h 40m  2035.0   9 Seats available      3.6   \n",
      "4077      23:40    05:45        06h 05m   600.0  23 Seats available      3.5   \n",
      "4078      03:21    08:56        05h 35m  1580.0  22 Seats available      3.3   \n",
      "4079      04:55    07:30        02h 35m  1190.0  20 Seats available      2.7   \n",
      "4080      04:15    07:00        02h 45m  1090.0   7 Seats available      2.7   \n",
      "4081      01:40    05:00        03h 20m  1190.0  29 Seats available      2.7   \n",
      "4082      23:59    05:00        05h 01m   990.0  33 Seats available      2.5   \n",
      "4083      05:30    09:30        04h 00m   759.0  15 Seats available      2.0   \n",
      "\n",
      "                                             Route_link  \\\n",
      "4074  https://www.redbus.in/bus-tickets/ananthapur-t...   \n",
      "4075  https://www.redbus.in/bus-tickets/ananthapur-t...   \n",
      "4076  https://www.redbus.in/bus-tickets/ananthapur-t...   \n",
      "4077  https://www.redbus.in/bus-tickets/ananthapur-t...   \n",
      "4078  https://www.redbus.in/bus-tickets/ananthapur-t...   \n",
      "4079  https://www.redbus.in/bus-tickets/ananthapur-t...   \n",
      "4080  https://www.redbus.in/bus-tickets/ananthapur-t...   \n",
      "4081  https://www.redbus.in/bus-tickets/ananthapur-t...   \n",
      "4082  https://www.redbus.in/bus-tickets/ananthapur-t...   \n",
      "4083  https://www.redbus.in/bus-tickets/ananthapur-t...   \n",
      "\n",
      "                                   Route_name  \n",
      "4074  Anantapur (andhra pradesh) to Bangalore  \n",
      "4075  Anantapur (andhra pradesh) to Bangalore  \n",
      "4076  Anantapur (andhra pradesh) to Bangalore  \n",
      "4077  Anantapur (andhra pradesh) to Bangalore  \n",
      "4078  Anantapur (andhra pradesh) to Bangalore  \n",
      "4079  Anantapur (andhra pradesh) to Bangalore  \n",
      "4080  Anantapur (andhra pradesh) to Bangalore  \n",
      "4081  Anantapur (andhra pradesh) to Bangalore  \n",
      "4082  Anantapur (andhra pradesh) to Bangalore  \n",
      "4083  Anantapur (andhra pradesh) to Bangalore  \n"
     ]
    }
   ],
   "source": [
    "\n",
    "print(Final_df.tail(10))\n"
   ]
  },
  {
   "cell_type": "code",
   "execution_count": null,
   "metadata": {},
   "outputs": [
    {
     "name": "stdout",
     "output_type": "stream",
     "text": [
      "<class 'pandas.core.frame.DataFrame'>\n",
      "Index: 4078 entries, 0 to 4083\n",
      "Data columns (total 10 columns):\n",
      " #   Column           Non-Null Count  Dtype  \n",
      "---  ------           --------------  -----  \n",
      " 0   Bus_name         4078 non-null   object \n",
      " 1   Bus_type         4078 non-null   object \n",
      " 2   Start_time       4078 non-null   object \n",
      " 3   End_time         4078 non-null   object \n",
      " 4   Total_duration   4078 non-null   object \n",
      " 5   Price            4078 non-null   float64\n",
      " 6   Seats_Available  4078 non-null   object \n",
      " 7   Ratings          4078 non-null   float64\n",
      " 8   Route_link       4078 non-null   object \n",
      " 9   Route_name       4078 non-null   object \n",
      "dtypes: float64(2), object(8)\n",
      "memory usage: 350.5+ KB\n"
     ]
    }
   ],
   "source": [
    "\n",
    "Final_df.info()\n"
   ]
  },
  {
   "cell_type": "code",
   "execution_count": null,
   "metadata": {},
   "outputs": [
    {
     "name": "stdout",
     "output_type": "stream",
     "text": [
      "             Price      Ratings\n",
      "count  4078.000000  4078.000000\n",
      "mean    875.528328     3.480554\n",
      "std     714.450985     0.943208\n",
      "min      90.000000     0.000000\n",
      "25%     495.000000     3.000000\n",
      "50%     700.000000     3.600000\n",
      "75%     998.750000     4.200000\n",
      "max    6000.000000     5.000000\n"
     ]
    }
   ],
   "source": [
    "\n",
    "print(Final_df.describe())\n"
   ]
  },
  {
   "cell_type": "code",
   "execution_count": 76,
   "metadata": {},
   "outputs": [
    {
     "name": "stdout",
     "output_type": "stream",
     "text": [
      "                   Bus_name                            Bus_type Start_time  \\\n",
      "0       KSRTC (Kerala) - 52         SWIFT-GARUDA A/C SEATER BUS      12:00   \n",
      "1     KSRTC (Kerala) - 1378                       AC MULTI AXLE      13:46   \n",
      "2      KSRTC (Kerala) - 129         SWIFT-GARUDA A/C SEATER BUS      14:15   \n",
      "3      KSRTC (Kerala) - 235   Swift Deluxe Non AC Air Bus (2+2)      15:00   \n",
      "4      KSRTC (Kerala) - 370                       AC MULTI AXLE      15:25   \n",
      "...                     ...                                 ...        ...   \n",
      "4079   Morning Star Travels  Scania AC Multi Axle Sleeper (2+1)      04:55   \n",
      "4080   Morning Star Travels                   A/C Sleeper (2+1)      04:15   \n",
      "4081   Morning Star Travels                   A/C Sleeper (2+1)      01:40   \n",
      "4082        KKaveri Travels      Non A/C Seater / Sleeper (2+1)      23:59   \n",
      "4083       Northern Travels       Bharat Benz A/C Sleeper (2+1)      05:30   \n",
      "\n",
      "     End_time Total_duration   Price     Seats_Available  Ratings  \\\n",
      "0       20:20        08h 20m   627.0   4 Seats available      4.1   \n",
      "1       21:25        07h 39m   729.0   3 Seats available      2.5   \n",
      "2       23:05        08h 50m   627.0  17 Seats available      4.3   \n",
      "3       01:00        10h 00m   620.0  14 Seats available      4.0   \n",
      "4       23:45        08h 20m   729.0  28 Seats available      2.9   \n",
      "...       ...            ...     ...                 ...      ...   \n",
      "4079    07:30        02h 35m  1190.0  20 Seats available      2.7   \n",
      "4080    07:00        02h 45m  1090.0   7 Seats available      2.7   \n",
      "4081    05:00        03h 20m  1190.0  29 Seats available      2.7   \n",
      "4082    05:00        05h 01m   990.0  33 Seats available      2.5   \n",
      "4083    09:30        04h 00m   759.0  15 Seats available      2.0   \n",
      "\n",
      "                                             Route_link  \\\n",
      "0     https://www.redbus.in/bus-tickets/bangalore-to...   \n",
      "1     https://www.redbus.in/bus-tickets/bangalore-to...   \n",
      "2     https://www.redbus.in/bus-tickets/bangalore-to...   \n",
      "3     https://www.redbus.in/bus-tickets/bangalore-to...   \n",
      "4     https://www.redbus.in/bus-tickets/bangalore-to...   \n",
      "...                                                 ...   \n",
      "4079  https://www.redbus.in/bus-tickets/ananthapur-t...   \n",
      "4080  https://www.redbus.in/bus-tickets/ananthapur-t...   \n",
      "4081  https://www.redbus.in/bus-tickets/ananthapur-t...   \n",
      "4082  https://www.redbus.in/bus-tickets/ananthapur-t...   \n",
      "4083  https://www.redbus.in/bus-tickets/ananthapur-t...   \n",
      "\n",
      "                                   Route_name  \n",
      "0                      Bangalore to Kozhikode  \n",
      "1                      Bangalore to Kozhikode  \n",
      "2                      Bangalore to Kozhikode  \n",
      "3                      Bangalore to Kozhikode  \n",
      "4                      Bangalore to Kozhikode  \n",
      "...                                       ...  \n",
      "4079  Anantapur (andhra pradesh) to Bangalore  \n",
      "4080  Anantapur (andhra pradesh) to Bangalore  \n",
      "4081  Anantapur (andhra pradesh) to Bangalore  \n",
      "4082  Anantapur (andhra pradesh) to Bangalore  \n",
      "4083  Anantapur (andhra pradesh) to Bangalore  \n",
      "\n",
      "[4078 rows x 10 columns]\n",
      "<class 'pandas.core.frame.DataFrame'>\n",
      "Index: 4078 entries, 0 to 4083\n",
      "Data columns (total 10 columns):\n",
      " #   Column           Non-Null Count  Dtype  \n",
      "---  ------           --------------  -----  \n",
      " 0   Bus_name         4078 non-null   object \n",
      " 1   Bus_type         4078 non-null   object \n",
      " 2   Start_time       4078 non-null   object \n",
      " 3   End_time         4078 non-null   object \n",
      " 4   Total_duration   4078 non-null   object \n",
      " 5   Price            4078 non-null   float64\n",
      " 6   Seats_Available  4078 non-null   object \n",
      " 7   Ratings          4078 non-null   float64\n",
      " 8   Route_link       4078 non-null   object \n",
      " 9   Route_name       4078 non-null   object \n",
      "dtypes: float64(2), object(8)\n",
      "memory usage: 350.5+ KB\n",
      "                Bus_name                           Bus_type Start_time  \\\n",
      "0    KSRTC (Kerala) - 52        SWIFT-GARUDA A/C SEATER BUS      12:00   \n",
      "1  KSRTC (Kerala) - 1378                      AC MULTI AXLE      13:46   \n",
      "2   KSRTC (Kerala) - 129        SWIFT-GARUDA A/C SEATER BUS      14:15   \n",
      "3   KSRTC (Kerala) - 235  Swift Deluxe Non AC Air Bus (2+2)      15:00   \n",
      "4   KSRTC (Kerala) - 370                      AC MULTI AXLE      15:25   \n",
      "\n",
      "  End_time Total_duration  Price     Seats_Available  Ratings  \\\n",
      "0    20:20        08h 20m  627.0   4 Seats available      4.1   \n",
      "1    21:25        07h 39m  729.0   3 Seats available      2.5   \n",
      "2    23:05        08h 50m  627.0  17 Seats available      4.3   \n",
      "3    01:00        10h 00m  620.0  14 Seats available      4.0   \n",
      "4    23:45        08h 20m  729.0  28 Seats available      2.9   \n",
      "\n",
      "                                          Route_link              Route_name  \n",
      "0  https://www.redbus.in/bus-tickets/bangalore-to...  Bangalore to Kozhikode  \n",
      "1  https://www.redbus.in/bus-tickets/bangalore-to...  Bangalore to Kozhikode  \n",
      "2  https://www.redbus.in/bus-tickets/bangalore-to...  Bangalore to Kozhikode  \n",
      "3  https://www.redbus.in/bus-tickets/bangalore-to...  Bangalore to Kozhikode  \n",
      "4  https://www.redbus.in/bus-tickets/bangalore-to...  Bangalore to Kozhikode  \n"
     ]
    }
   ],
   "source": [
    "import pandas as pd\n",
    "\n",
    "print(Final_df)\n",
    "\n",
    "Final_df.info()\n",
    "\n",
    "print(Final_df.head())\n"
   ]
  },
  {
   "cell_type": "code",
   "execution_count": 77,
   "metadata": {},
   "outputs": [
    {
     "name": "stdout",
     "output_type": "stream",
     "text": [
      "Requirement already satisfied: mysql-connector-python in c:\\users\\dell\\desktop\\redbus\\.venv\\lib\\site-packages (9.1.0)Note: you may need to restart the kernel to use updated packages.\n",
      "\n"
     ]
    }
   ],
   "source": [
    "%pip install mysql-connector-python"
   ]
  },
  {
   "cell_type": "code",
   "execution_count": 1,
   "metadata": {},
   "outputs": [],
   "source": [
    "import mysql.connector"
   ]
  },
  {
   "cell_type": "code",
   "execution_count": 3,
   "metadata": {},
   "outputs": [
    {
     "name": "stdout",
     "output_type": "stream",
     "text": [
      "Database 'REDBUS_Data' created successfully.\n"
     ]
    }
   ],
   "source": [
    "import mysql.connector\n",
    "\n",
    "# Establish connection to the MySQL server\n",
    "connection = mysql.connector.connect(\n",
    "    host=\"localhost\",  # Host where MySQL is running\n",
    "    user=\"root\",       # MySQL username\n",
    "    password=\"123456789\"  # MySQL password (use your actual password)\n",
    ")\n",
    "\n",
    "# Create a cursor object to interact with MySQL\n",
    "cursor = connection.cursor()\n",
    "\n",
    "# Execute SQL command to create a database\n",
    "cursor.execute(\"CREATE DATABASE REDBUS_Data\")\n",
    "\n",
    "# Close the connection\n",
    "connection.close()\n",
    "\n",
    "print(\"Database 'REDBUS_Data' created successfully.\")"
   ]
  },
  {
   "cell_type": "code",
   "execution_count": 11,
   "metadata": {},
   "outputs": [
    {
     "data": {
      "text/html": [
       "<div>\n",
       "<style scoped>\n",
       "    .dataframe tbody tr th:only-of-type {\n",
       "        vertical-align: middle;\n",
       "    }\n",
       "\n",
       "    .dataframe tbody tr th {\n",
       "        vertical-align: top;\n",
       "    }\n",
       "\n",
       "    .dataframe thead th {\n",
       "        text-align: right;\n",
       "    }\n",
       "</style>\n",
       "<table border=\"1\" class=\"dataframe\">\n",
       "  <thead>\n",
       "    <tr style=\"text-align: right;\">\n",
       "      <th></th>\n",
       "      <th>Bus_name</th>\n",
       "      <th>Bus_type</th>\n",
       "      <th>Start_time</th>\n",
       "      <th>End_time</th>\n",
       "      <th>Total_duration</th>\n",
       "      <th>Price</th>\n",
       "      <th>Seats_Available</th>\n",
       "      <th>Ratings</th>\n",
       "      <th>Route_link</th>\n",
       "      <th>Route_name</th>\n",
       "    </tr>\n",
       "  </thead>\n",
       "  <tbody>\n",
       "    <tr>\n",
       "      <th>0</th>\n",
       "      <td>KSRTC (Kerala) - 52</td>\n",
       "      <td>SWIFT-GARUDA A/C SEATER BUS</td>\n",
       "      <td>12:00</td>\n",
       "      <td>20:20</td>\n",
       "      <td>08h 20m</td>\n",
       "      <td>627.0</td>\n",
       "      <td>4 Seats available</td>\n",
       "      <td>4.1</td>\n",
       "      <td>https://www.redbus.in/bus-tickets/bangalore-to...</td>\n",
       "      <td>Bangalore to Kozhikode</td>\n",
       "    </tr>\n",
       "    <tr>\n",
       "      <th>1</th>\n",
       "      <td>KSRTC (Kerala) - 1378</td>\n",
       "      <td>AC MULTI AXLE</td>\n",
       "      <td>13:46</td>\n",
       "      <td>21:25</td>\n",
       "      <td>07h 39m</td>\n",
       "      <td>729.0</td>\n",
       "      <td>3 Seats available</td>\n",
       "      <td>2.5</td>\n",
       "      <td>https://www.redbus.in/bus-tickets/bangalore-to...</td>\n",
       "      <td>Bangalore to Kozhikode</td>\n",
       "    </tr>\n",
       "    <tr>\n",
       "      <th>2</th>\n",
       "      <td>KSRTC (Kerala) - 129</td>\n",
       "      <td>SWIFT-GARUDA A/C SEATER BUS</td>\n",
       "      <td>14:15</td>\n",
       "      <td>23:05</td>\n",
       "      <td>08h 50m</td>\n",
       "      <td>627.0</td>\n",
       "      <td>17 Seats available</td>\n",
       "      <td>4.3</td>\n",
       "      <td>https://www.redbus.in/bus-tickets/bangalore-to...</td>\n",
       "      <td>Bangalore to Kozhikode</td>\n",
       "    </tr>\n",
       "    <tr>\n",
       "      <th>3</th>\n",
       "      <td>KSRTC (Kerala) - 235</td>\n",
       "      <td>Swift Deluxe Non AC Air Bus (2+2)</td>\n",
       "      <td>15:00</td>\n",
       "      <td>01:00</td>\n",
       "      <td>10h 00m</td>\n",
       "      <td>620.0</td>\n",
       "      <td>14 Seats available</td>\n",
       "      <td>4.0</td>\n",
       "      <td>https://www.redbus.in/bus-tickets/bangalore-to...</td>\n",
       "      <td>Bangalore to Kozhikode</td>\n",
       "    </tr>\n",
       "    <tr>\n",
       "      <th>4</th>\n",
       "      <td>KSRTC (Kerala) - 370</td>\n",
       "      <td>AC MULTI AXLE</td>\n",
       "      <td>15:25</td>\n",
       "      <td>23:45</td>\n",
       "      <td>08h 20m</td>\n",
       "      <td>729.0</td>\n",
       "      <td>28 Seats available</td>\n",
       "      <td>2.9</td>\n",
       "      <td>https://www.redbus.in/bus-tickets/bangalore-to...</td>\n",
       "      <td>Bangalore to Kozhikode</td>\n",
       "    </tr>\n",
       "    <tr>\n",
       "      <th>...</th>\n",
       "      <td>...</td>\n",
       "      <td>...</td>\n",
       "      <td>...</td>\n",
       "      <td>...</td>\n",
       "      <td>...</td>\n",
       "      <td>...</td>\n",
       "      <td>...</td>\n",
       "      <td>...</td>\n",
       "      <td>...</td>\n",
       "      <td>...</td>\n",
       "    </tr>\n",
       "    <tr>\n",
       "      <th>4073</th>\n",
       "      <td>Morning Star Travels</td>\n",
       "      <td>Scania AC Multi Axle Sleeper (2+1)</td>\n",
       "      <td>04:55</td>\n",
       "      <td>07:30</td>\n",
       "      <td>02h 35m</td>\n",
       "      <td>1190.0</td>\n",
       "      <td>20 Seats available</td>\n",
       "      <td>2.7</td>\n",
       "      <td>https://www.redbus.in/bus-tickets/ananthapur-t...</td>\n",
       "      <td>Anantapur (andhra pradesh) to Bangalore</td>\n",
       "    </tr>\n",
       "    <tr>\n",
       "      <th>4074</th>\n",
       "      <td>Morning Star Travels</td>\n",
       "      <td>A/C Sleeper (2+1)</td>\n",
       "      <td>04:15</td>\n",
       "      <td>07:00</td>\n",
       "      <td>02h 45m</td>\n",
       "      <td>1090.0</td>\n",
       "      <td>7 Seats available</td>\n",
       "      <td>2.7</td>\n",
       "      <td>https://www.redbus.in/bus-tickets/ananthapur-t...</td>\n",
       "      <td>Anantapur (andhra pradesh) to Bangalore</td>\n",
       "    </tr>\n",
       "    <tr>\n",
       "      <th>4075</th>\n",
       "      <td>Morning Star Travels</td>\n",
       "      <td>A/C Sleeper (2+1)</td>\n",
       "      <td>01:40</td>\n",
       "      <td>05:00</td>\n",
       "      <td>03h 20m</td>\n",
       "      <td>1190.0</td>\n",
       "      <td>29 Seats available</td>\n",
       "      <td>2.7</td>\n",
       "      <td>https://www.redbus.in/bus-tickets/ananthapur-t...</td>\n",
       "      <td>Anantapur (andhra pradesh) to Bangalore</td>\n",
       "    </tr>\n",
       "    <tr>\n",
       "      <th>4076</th>\n",
       "      <td>KKaveri Travels</td>\n",
       "      <td>Non A/C Seater / Sleeper (2+1)</td>\n",
       "      <td>23:59</td>\n",
       "      <td>05:00</td>\n",
       "      <td>05h 01m</td>\n",
       "      <td>990.0</td>\n",
       "      <td>33 Seats available</td>\n",
       "      <td>2.5</td>\n",
       "      <td>https://www.redbus.in/bus-tickets/ananthapur-t...</td>\n",
       "      <td>Anantapur (andhra pradesh) to Bangalore</td>\n",
       "    </tr>\n",
       "    <tr>\n",
       "      <th>4077</th>\n",
       "      <td>Northern Travels</td>\n",
       "      <td>Bharat Benz A/C Sleeper (2+1)</td>\n",
       "      <td>05:30</td>\n",
       "      <td>09:30</td>\n",
       "      <td>04h 00m</td>\n",
       "      <td>759.0</td>\n",
       "      <td>15 Seats available</td>\n",
       "      <td>2.0</td>\n",
       "      <td>https://www.redbus.in/bus-tickets/ananthapur-t...</td>\n",
       "      <td>Anantapur (andhra pradesh) to Bangalore</td>\n",
       "    </tr>\n",
       "  </tbody>\n",
       "</table>\n",
       "<p>4078 rows × 10 columns</p>\n",
       "</div>"
      ],
      "text/plain": [
       "                   Bus_name                            Bus_type Start_time  \\\n",
       "0       KSRTC (Kerala) - 52         SWIFT-GARUDA A/C SEATER BUS      12:00   \n",
       "1     KSRTC (Kerala) - 1378                       AC MULTI AXLE      13:46   \n",
       "2      KSRTC (Kerala) - 129         SWIFT-GARUDA A/C SEATER BUS      14:15   \n",
       "3      KSRTC (Kerala) - 235   Swift Deluxe Non AC Air Bus (2+2)      15:00   \n",
       "4      KSRTC (Kerala) - 370                       AC MULTI AXLE      15:25   \n",
       "...                     ...                                 ...        ...   \n",
       "4073   Morning Star Travels  Scania AC Multi Axle Sleeper (2+1)      04:55   \n",
       "4074   Morning Star Travels                   A/C Sleeper (2+1)      04:15   \n",
       "4075   Morning Star Travels                   A/C Sleeper (2+1)      01:40   \n",
       "4076        KKaveri Travels      Non A/C Seater / Sleeper (2+1)      23:59   \n",
       "4077       Northern Travels       Bharat Benz A/C Sleeper (2+1)      05:30   \n",
       "\n",
       "     End_time Total_duration   Price     Seats_Available  Ratings  \\\n",
       "0       20:20        08h 20m   627.0   4 Seats available      4.1   \n",
       "1       21:25        07h 39m   729.0   3 Seats available      2.5   \n",
       "2       23:05        08h 50m   627.0  17 Seats available      4.3   \n",
       "3       01:00        10h 00m   620.0  14 Seats available      4.0   \n",
       "4       23:45        08h 20m   729.0  28 Seats available      2.9   \n",
       "...       ...            ...     ...                 ...      ...   \n",
       "4073    07:30        02h 35m  1190.0  20 Seats available      2.7   \n",
       "4074    07:00        02h 45m  1090.0   7 Seats available      2.7   \n",
       "4075    05:00        03h 20m  1190.0  29 Seats available      2.7   \n",
       "4076    05:00        05h 01m   990.0  33 Seats available      2.5   \n",
       "4077    09:30        04h 00m   759.0  15 Seats available      2.0   \n",
       "\n",
       "                                             Route_link  \\\n",
       "0     https://www.redbus.in/bus-tickets/bangalore-to...   \n",
       "1     https://www.redbus.in/bus-tickets/bangalore-to...   \n",
       "2     https://www.redbus.in/bus-tickets/bangalore-to...   \n",
       "3     https://www.redbus.in/bus-tickets/bangalore-to...   \n",
       "4     https://www.redbus.in/bus-tickets/bangalore-to...   \n",
       "...                                                 ...   \n",
       "4073  https://www.redbus.in/bus-tickets/ananthapur-t...   \n",
       "4074  https://www.redbus.in/bus-tickets/ananthapur-t...   \n",
       "4075  https://www.redbus.in/bus-tickets/ananthapur-t...   \n",
       "4076  https://www.redbus.in/bus-tickets/ananthapur-t...   \n",
       "4077  https://www.redbus.in/bus-tickets/ananthapur-t...   \n",
       "\n",
       "                                   Route_name  \n",
       "0                      Bangalore to Kozhikode  \n",
       "1                      Bangalore to Kozhikode  \n",
       "2                      Bangalore to Kozhikode  \n",
       "3                      Bangalore to Kozhikode  \n",
       "4                      Bangalore to Kozhikode  \n",
       "...                                       ...  \n",
       "4073  Anantapur (andhra pradesh) to Bangalore  \n",
       "4074  Anantapur (andhra pradesh) to Bangalore  \n",
       "4075  Anantapur (andhra pradesh) to Bangalore  \n",
       "4076  Anantapur (andhra pradesh) to Bangalore  \n",
       "4077  Anantapur (andhra pradesh) to Bangalore  \n",
       "\n",
       "[4078 rows x 10 columns]"
      ]
     },
     "execution_count": 11,
     "metadata": {},
     "output_type": "execute_result"
    }
   ],
   "source": [
    "import pandas as pd\n",
    "\n",
    "Final_df = pd.read_csv('Full_busdetails_df.csv')\n",
    "Final_df\n",
    "\n"
   ]
  },
  {
   "cell_type": "code",
   "execution_count": 12,
   "metadata": {},
   "outputs": [
    {
     "name": "stdout",
     "output_type": "stream",
     "text": [
      "                   Bus_name                            Bus_type Start_time  \\\n",
      "0       KSRTC (Kerala) - 52         SWIFT-GARUDA A/C SEATER BUS      12:00   \n",
      "1     KSRTC (Kerala) - 1378                       AC MULTI AXLE      13:46   \n",
      "2      KSRTC (Kerala) - 129         SWIFT-GARUDA A/C SEATER BUS      14:15   \n",
      "3      KSRTC (Kerala) - 235   Swift Deluxe Non AC Air Bus (2+2)      15:00   \n",
      "4      KSRTC (Kerala) - 370                       AC MULTI AXLE      15:25   \n",
      "...                     ...                                 ...        ...   \n",
      "4073   Morning Star Travels  Scania AC Multi Axle Sleeper (2+1)      04:55   \n",
      "4074   Morning Star Travels                   A/C Sleeper (2+1)      04:15   \n",
      "4075   Morning Star Travels                   A/C Sleeper (2+1)      01:40   \n",
      "4076        KKaveri Travels      Non A/C Seater / Sleeper (2+1)      23:59   \n",
      "4077       Northern Travels       Bharat Benz A/C Sleeper (2+1)      05:30   \n",
      "\n",
      "     End_time Total_duration   Price     Seats_Available  Ratings  \\\n",
      "0       20:20        08h 20m   627.0   4 Seats available      4.1   \n",
      "1       21:25        07h 39m   729.0   3 Seats available      2.5   \n",
      "2       23:05        08h 50m   627.0  17 Seats available      4.3   \n",
      "3       01:00        10h 00m   620.0  14 Seats available      4.0   \n",
      "4       23:45        08h 20m   729.0  28 Seats available      2.9   \n",
      "...       ...            ...     ...                 ...      ...   \n",
      "4073    07:30        02h 35m  1190.0  20 Seats available      2.7   \n",
      "4074    07:00        02h 45m  1090.0   7 Seats available      2.7   \n",
      "4075    05:00        03h 20m  1190.0  29 Seats available      2.7   \n",
      "4076    05:00        05h 01m   990.0  33 Seats available      2.5   \n",
      "4077    09:30        04h 00m   759.0  15 Seats available      2.0   \n",
      "\n",
      "                                             Route_link  \\\n",
      "0     https://www.redbus.in/bus-tickets/bangalore-to...   \n",
      "1     https://www.redbus.in/bus-tickets/bangalore-to...   \n",
      "2     https://www.redbus.in/bus-tickets/bangalore-to...   \n",
      "3     https://www.redbus.in/bus-tickets/bangalore-to...   \n",
      "4     https://www.redbus.in/bus-tickets/bangalore-to...   \n",
      "...                                                 ...   \n",
      "4073  https://www.redbus.in/bus-tickets/ananthapur-t...   \n",
      "4074  https://www.redbus.in/bus-tickets/ananthapur-t...   \n",
      "4075  https://www.redbus.in/bus-tickets/ananthapur-t...   \n",
      "4076  https://www.redbus.in/bus-tickets/ananthapur-t...   \n",
      "4077  https://www.redbus.in/bus-tickets/ananthapur-t...   \n",
      "\n",
      "                                   Route_name  \n",
      "0                      Bangalore to Kozhikode  \n",
      "1                      Bangalore to Kozhikode  \n",
      "2                      Bangalore to Kozhikode  \n",
      "3                      Bangalore to Kozhikode  \n",
      "4                      Bangalore to Kozhikode  \n",
      "...                                       ...  \n",
      "4073  Anantapur (andhra pradesh) to Bangalore  \n",
      "4074  Anantapur (andhra pradesh) to Bangalore  \n",
      "4075  Anantapur (andhra pradesh) to Bangalore  \n",
      "4076  Anantapur (andhra pradesh) to Bangalore  \n",
      "4077  Anantapur (andhra pradesh) to Bangalore  \n",
      "\n",
      "[4078 rows x 10 columns]\n",
      "<class 'pandas.core.frame.DataFrame'>\n",
      "RangeIndex: 4078 entries, 0 to 4077\n",
      "Data columns (total 10 columns):\n",
      " #   Column           Non-Null Count  Dtype  \n",
      "---  ------           --------------  -----  \n",
      " 0   Bus_name         4078 non-null   object \n",
      " 1   Bus_type         4077 non-null   object \n",
      " 2   Start_time       4078 non-null   object \n",
      " 3   End_time         4078 non-null   object \n",
      " 4   Total_duration   4078 non-null   object \n",
      " 5   Price            4078 non-null   float64\n",
      " 6   Seats_Available  4078 non-null   object \n",
      " 7   Ratings          4078 non-null   float64\n",
      " 8   Route_link       4078 non-null   object \n",
      " 9   Route_name       4078 non-null   object \n",
      "dtypes: float64(2), object(8)\n",
      "memory usage: 318.7+ KB\n",
      "                Bus_name                           Bus_type Start_time  \\\n",
      "0    KSRTC (Kerala) - 52        SWIFT-GARUDA A/C SEATER BUS      12:00   \n",
      "1  KSRTC (Kerala) - 1378                      AC MULTI AXLE      13:46   \n",
      "2   KSRTC (Kerala) - 129        SWIFT-GARUDA A/C SEATER BUS      14:15   \n",
      "3   KSRTC (Kerala) - 235  Swift Deluxe Non AC Air Bus (2+2)      15:00   \n",
      "4   KSRTC (Kerala) - 370                      AC MULTI AXLE      15:25   \n",
      "\n",
      "  End_time Total_duration  Price     Seats_Available  Ratings  \\\n",
      "0    20:20        08h 20m  627.0   4 Seats available      4.1   \n",
      "1    21:25        07h 39m  729.0   3 Seats available      2.5   \n",
      "2    23:05        08h 50m  627.0  17 Seats available      4.3   \n",
      "3    01:00        10h 00m  620.0  14 Seats available      4.0   \n",
      "4    23:45        08h 20m  729.0  28 Seats available      2.9   \n",
      "\n",
      "                                          Route_link              Route_name  \n",
      "0  https://www.redbus.in/bus-tickets/bangalore-to...  Bangalore to Kozhikode  \n",
      "1  https://www.redbus.in/bus-tickets/bangalore-to...  Bangalore to Kozhikode  \n",
      "2  https://www.redbus.in/bus-tickets/bangalore-to...  Bangalore to Kozhikode  \n",
      "3  https://www.redbus.in/bus-tickets/bangalore-to...  Bangalore to Kozhikode  \n",
      "4  https://www.redbus.in/bus-tickets/bangalore-to...  Bangalore to Kozhikode  \n"
     ]
    }
   ],
   "source": [
    "import pandas as pd\n",
    "\n",
    "print(Final_df)\n",
    "\n",
    "Final_df.info()\n",
    "\n",
    "print(Final_df.head())"
   ]
  },
  {
   "cell_type": "code",
   "execution_count": 13,
   "metadata": {},
   "outputs": [
    {
     "name": "stdout",
     "output_type": "stream",
     "text": [
      "Table 'details' Table Created successfully\n"
     ]
    }
   ],
   "source": [
    "import mysql.connector\n",
    "connection = mysql.connector.connect(\n",
    "    host=\"localhost\",\n",
    "    user=\"root\",\n",
    "    password=\"123456789\",\n",
    "    database=\"REDBUS_Data\" \n",
    ")\n",
    "cursor = connection.cursor()\n",
    "cursor.execute('''CREATE TABLE details(\n",
    "                  ID INT AUTO_INCREMENT PRIMARY KEY,\n",
    "                  Bus_name VARCHAR(255) NOT NULL,\n",
    "                  Bus_type VARCHAR(255) NOT NULL,\n",
    "                  Start_time VARCHAR(255) NOT NULL,\n",
    "                  End_time VARCHAR(255) NOT NULL,\n",
    "                  Total_duration VARCHAR(255) NOT NULL,\n",
    "                  Price FLOAT NULL,\n",
    "                  Seats_Available VARCHAR(255) NOT NULL,\n",
    "                  Ratings Float NULL,\n",
    "                  Route_link VARCHAR(255) NULL,\n",
    "                  Route_name VARCHAR(255) NULL\n",
    "                  )''')\n",
    "print(\"Table 'details' Table Created successfully\")"
   ]
  },
  {
   "cell_type": "code",
   "execution_count": 14,
   "metadata": {},
   "outputs": [
    {
     "name": "stdout",
     "output_type": "stream",
     "text": [
      "                   Bus_name                            Bus_type Start_time  \\\n",
      "0       KSRTC (Kerala) - 52         SWIFT-GARUDA A/C SEATER BUS      12:00   \n",
      "1     KSRTC (Kerala) - 1378                       AC MULTI AXLE      13:46   \n",
      "2      KSRTC (Kerala) - 129         SWIFT-GARUDA A/C SEATER BUS      14:15   \n",
      "3      KSRTC (Kerala) - 235   Swift Deluxe Non AC Air Bus (2+2)      15:00   \n",
      "4      KSRTC (Kerala) - 370                       AC MULTI AXLE      15:25   \n",
      "...                     ...                                 ...        ...   \n",
      "4073   Morning Star Travels  Scania AC Multi Axle Sleeper (2+1)      04:55   \n",
      "4074   Morning Star Travels                   A/C Sleeper (2+1)      04:15   \n",
      "4075   Morning Star Travels                   A/C Sleeper (2+1)      01:40   \n",
      "4076        KKaveri Travels      Non A/C Seater / Sleeper (2+1)      23:59   \n",
      "4077       Northern Travels       Bharat Benz A/C Sleeper (2+1)      05:30   \n",
      "\n",
      "     End_time Total_duration   Price     Seats_Available  Ratings  \\\n",
      "0       20:20        08h 20m   627.0   4 Seats available      4.1   \n",
      "1       21:25        07h 39m   729.0   3 Seats available      2.5   \n",
      "2       23:05        08h 50m   627.0  17 Seats available      4.3   \n",
      "3       01:00        10h 00m   620.0  14 Seats available      4.0   \n",
      "4       23:45        08h 20m   729.0  28 Seats available      2.9   \n",
      "...       ...            ...     ...                 ...      ...   \n",
      "4073    07:30        02h 35m  1190.0  20 Seats available      2.7   \n",
      "4074    07:00        02h 45m  1090.0   7 Seats available      2.7   \n",
      "4075    05:00        03h 20m  1190.0  29 Seats available      2.7   \n",
      "4076    05:00        05h 01m   990.0  33 Seats available      2.5   \n",
      "4077    09:30        04h 00m   759.0  15 Seats available      2.0   \n",
      "\n",
      "                                             Route_link  \\\n",
      "0     https://www.redbus.in/bus-tickets/bangalore-to...   \n",
      "1     https://www.redbus.in/bus-tickets/bangalore-to...   \n",
      "2     https://www.redbus.in/bus-tickets/bangalore-to...   \n",
      "3     https://www.redbus.in/bus-tickets/bangalore-to...   \n",
      "4     https://www.redbus.in/bus-tickets/bangalore-to...   \n",
      "...                                                 ...   \n",
      "4073  https://www.redbus.in/bus-tickets/ananthapur-t...   \n",
      "4074  https://www.redbus.in/bus-tickets/ananthapur-t...   \n",
      "4075  https://www.redbus.in/bus-tickets/ananthapur-t...   \n",
      "4076  https://www.redbus.in/bus-tickets/ananthapur-t...   \n",
      "4077  https://www.redbus.in/bus-tickets/ananthapur-t...   \n",
      "\n",
      "                                   Route_name  \n",
      "0                      Bangalore to Kozhikode  \n",
      "1                      Bangalore to Kozhikode  \n",
      "2                      Bangalore to Kozhikode  \n",
      "3                      Bangalore to Kozhikode  \n",
      "4                      Bangalore to Kozhikode  \n",
      "...                                       ...  \n",
      "4073  Anantapur (andhra pradesh) to Bangalore  \n",
      "4074  Anantapur (andhra pradesh) to Bangalore  \n",
      "4075  Anantapur (andhra pradesh) to Bangalore  \n",
      "4076  Anantapur (andhra pradesh) to Bangalore  \n",
      "4077  Anantapur (andhra pradesh) to Bangalore  \n",
      "\n",
      "[4078 rows x 10 columns]\n",
      "<class 'pandas.core.frame.DataFrame'>\n",
      "RangeIndex: 4078 entries, 0 to 4077\n",
      "Data columns (total 10 columns):\n",
      " #   Column           Non-Null Count  Dtype  \n",
      "---  ------           --------------  -----  \n",
      " 0   Bus_name         4078 non-null   object \n",
      " 1   Bus_type         4077 non-null   object \n",
      " 2   Start_time       4078 non-null   object \n",
      " 3   End_time         4078 non-null   object \n",
      " 4   Total_duration   4078 non-null   object \n",
      " 5   Price            4078 non-null   float64\n",
      " 6   Seats_Available  4078 non-null   object \n",
      " 7   Ratings          4078 non-null   float64\n",
      " 8   Route_link       4078 non-null   object \n",
      " 9   Route_name       4078 non-null   object \n",
      "dtypes: float64(2), object(8)\n",
      "memory usage: 318.7+ KB\n",
      "                Bus_name                           Bus_type Start_time  \\\n",
      "0    KSRTC (Kerala) - 52        SWIFT-GARUDA A/C SEATER BUS      12:00   \n",
      "1  KSRTC (Kerala) - 1378                      AC MULTI AXLE      13:46   \n",
      "2   KSRTC (Kerala) - 129        SWIFT-GARUDA A/C SEATER BUS      14:15   \n",
      "3   KSRTC (Kerala) - 235  Swift Deluxe Non AC Air Bus (2+2)      15:00   \n",
      "4   KSRTC (Kerala) - 370                      AC MULTI AXLE      15:25   \n",
      "\n",
      "  End_time Total_duration  Price     Seats_Available  Ratings  \\\n",
      "0    20:20        08h 20m  627.0   4 Seats available      4.1   \n",
      "1    21:25        07h 39m  729.0   3 Seats available      2.5   \n",
      "2    23:05        08h 50m  627.0  17 Seats available      4.3   \n",
      "3    01:00        10h 00m  620.0  14 Seats available      4.0   \n",
      "4    23:45        08h 20m  729.0  28 Seats available      2.9   \n",
      "\n",
      "                                          Route_link              Route_name  \n",
      "0  https://www.redbus.in/bus-tickets/bangalore-to...  Bangalore to Kozhikode  \n",
      "1  https://www.redbus.in/bus-tickets/bangalore-to...  Bangalore to Kozhikode  \n",
      "2  https://www.redbus.in/bus-tickets/bangalore-to...  Bangalore to Kozhikode  \n",
      "3  https://www.redbus.in/bus-tickets/bangalore-to...  Bangalore to Kozhikode  \n",
      "4  https://www.redbus.in/bus-tickets/bangalore-to...  Bangalore to Kozhikode  \n"
     ]
    }
   ],
   "source": [
    "import pandas as pd\n",
    "\n",
    "print(Final_df)\n",
    "\n",
    "Final_df.info()\n",
    "\n",
    "print(Final_df.head())"
   ]
  },
  {
   "cell_type": "code",
   "execution_count": 15,
   "metadata": {},
   "outputs": [
    {
     "name": "stdout",
     "output_type": "stream",
     "text": [
      "Error: 1054 (42S22): Unknown column 'nan' in 'field list'\n"
     ]
    }
   ],
   "source": [
    "insert_query = ('''INSERT INTO details(Bus_name,Bus_type,Start_time,End_time,Total_duration,Price,Seats_Available,Ratings,Route_link,Route_name)VALUES(%s, %s, %s, %s, %s, %s, %s, %s, %s, %s)''')\n",
    "data =Final_df.values.tolist()\n",
    "try:\n",
    "    cursor.executemany(insert_query, data)\n",
    "    connection.commit()\n",
    "    print(\"Values inserted successfully\")\n",
    "except Exception as e:\n",
    "    print(f\"Error: {e}\")"
   ]
  },
  {
   "cell_type": "code",
   "execution_count": 17,
   "metadata": {},
   "outputs": [],
   "source": [
    "import numpy as np\n",
    "Final_df = Final_df.replace({np.nan: None})"
   ]
  },
  {
   "cell_type": "code",
   "execution_count": 18,
   "metadata": {},
   "outputs": [
    {
     "name": "stdout",
     "output_type": "stream",
     "text": [
      "Error: 1048 (23000): Column 'Bus_type' cannot be null\n"
     ]
    }
   ],
   "source": [
    "insert_query = ('''INSERT INTO details(Bus_name,Bus_type,Start_time,End_time,Total_duration,Price,Seats_Available,Ratings,Route_link,Route_name)VALUES(%s, %s, %s, %s, %s, %s, %s, %s, %s, %s)''')\n",
    "data =Final_df.values.tolist()\n",
    "try:\n",
    "    cursor.executemany(insert_query, data)\n",
    "    connection.commit()\n",
    "    print(\"Values inserted successfully\")\n",
    "except Exception as e:\n",
    "    print(f\"Error: {e}\")"
   ]
  },
  {
   "cell_type": "code",
   "execution_count": 19,
   "metadata": {},
   "outputs": [
    {
     "name": "stdout",
     "output_type": "stream",
     "text": [
      "1\n",
      "0\n"
     ]
    }
   ],
   "source": [
    "print(Final_df['Bus_type'].isnull().sum()) \n",
    "Final_df['Bus_type'] = Final_df['Bus_type'].fillna('Unknown')\n",
    "print(Final_df['Bus_type'].isnull().sum())"
   ]
  },
  {
   "cell_type": "code",
   "execution_count": 23,
   "metadata": {},
   "outputs": [
    {
     "name": "stdout",
     "output_type": "stream",
     "text": [
      "<class 'pandas.core.frame.DataFrame'>\n",
      "RangeIndex: 4078 entries, 0 to 4077\n",
      "Data columns (total 10 columns):\n",
      " #   Column           Non-Null Count  Dtype  \n",
      "---  ------           --------------  -----  \n",
      " 0   Bus_name         4078 non-null   object \n",
      " 1   Bus_type         4078 non-null   object \n",
      " 2   Start_time       4078 non-null   object \n",
      " 3   End_time         4078 non-null   object \n",
      " 4   Total_duration   4078 non-null   object \n",
      " 5   Price            4078 non-null   float64\n",
      " 6   Seats_Available  4078 non-null   object \n",
      " 7   Ratings          4078 non-null   float64\n",
      " 8   Route_link       4078 non-null   object \n",
      " 9   Route_name       4078 non-null   object \n",
      "dtypes: float64(2), object(8)\n",
      "memory usage: 318.7+ KB\n"
     ]
    }
   ],
   "source": [
    "Final_df.info()"
   ]
  },
  {
   "cell_type": "code",
   "execution_count": 25,
   "metadata": {},
   "outputs": [
    {
     "name": "stdout",
     "output_type": "stream",
     "text": [
      "                   Bus_name                            Bus_type Start_time  \\\n",
      "0       KSRTC (Kerala) - 52         SWIFT-GARUDA A/C SEATER BUS      12:00   \n",
      "1     KSRTC (Kerala) - 1378                       AC MULTI AXLE      13:46   \n",
      "2      KSRTC (Kerala) - 129         SWIFT-GARUDA A/C SEATER BUS      14:15   \n",
      "3      KSRTC (Kerala) - 235   Swift Deluxe Non AC Air Bus (2+2)      15:00   \n",
      "4      KSRTC (Kerala) - 370                       AC MULTI AXLE      15:25   \n",
      "...                     ...                                 ...        ...   \n",
      "4073   Morning Star Travels  Scania AC Multi Axle Sleeper (2+1)      04:55   \n",
      "4074   Morning Star Travels                   A/C Sleeper (2+1)      04:15   \n",
      "4075   Morning Star Travels                   A/C Sleeper (2+1)      01:40   \n",
      "4076        KKaveri Travels      Non A/C Seater / Sleeper (2+1)      23:59   \n",
      "4077       Northern Travels       Bharat Benz A/C Sleeper (2+1)      05:30   \n",
      "\n",
      "     End_time Total_duration   Price     Seats_Available  Ratings  \\\n",
      "0       20:20        08h 20m   627.0   4 Seats available      4.1   \n",
      "1       21:25        07h 39m   729.0   3 Seats available      2.5   \n",
      "2       23:05        08h 50m   627.0  17 Seats available      4.3   \n",
      "3       01:00        10h 00m   620.0  14 Seats available      4.0   \n",
      "4       23:45        08h 20m   729.0  28 Seats available      2.9   \n",
      "...       ...            ...     ...                 ...      ...   \n",
      "4073    07:30        02h 35m  1190.0  20 Seats available      2.7   \n",
      "4074    07:00        02h 45m  1090.0   7 Seats available      2.7   \n",
      "4075    05:00        03h 20m  1190.0  29 Seats available      2.7   \n",
      "4076    05:00        05h 01m   990.0  33 Seats available      2.5   \n",
      "4077    09:30        04h 00m   759.0  15 Seats available      2.0   \n",
      "\n",
      "                                             Route_link  \\\n",
      "0     https://www.redbus.in/bus-tickets/bangalore-to...   \n",
      "1     https://www.redbus.in/bus-tickets/bangalore-to...   \n",
      "2     https://www.redbus.in/bus-tickets/bangalore-to...   \n",
      "3     https://www.redbus.in/bus-tickets/bangalore-to...   \n",
      "4     https://www.redbus.in/bus-tickets/bangalore-to...   \n",
      "...                                                 ...   \n",
      "4073  https://www.redbus.in/bus-tickets/ananthapur-t...   \n",
      "4074  https://www.redbus.in/bus-tickets/ananthapur-t...   \n",
      "4075  https://www.redbus.in/bus-tickets/ananthapur-t...   \n",
      "4076  https://www.redbus.in/bus-tickets/ananthapur-t...   \n",
      "4077  https://www.redbus.in/bus-tickets/ananthapur-t...   \n",
      "\n",
      "                                   Route_name  \n",
      "0                      Bangalore to Kozhikode  \n",
      "1                      Bangalore to Kozhikode  \n",
      "2                      Bangalore to Kozhikode  \n",
      "3                      Bangalore to Kozhikode  \n",
      "4                      Bangalore to Kozhikode  \n",
      "...                                       ...  \n",
      "4073  Anantapur (andhra pradesh) to Bangalore  \n",
      "4074  Anantapur (andhra pradesh) to Bangalore  \n",
      "4075  Anantapur (andhra pradesh) to Bangalore  \n",
      "4076  Anantapur (andhra pradesh) to Bangalore  \n",
      "4077  Anantapur (andhra pradesh) to Bangalore  \n",
      "\n",
      "[4078 rows x 10 columns]\n",
      "<class 'pandas.core.frame.DataFrame'>\n",
      "RangeIndex: 4078 entries, 0 to 4077\n",
      "Data columns (total 10 columns):\n",
      " #   Column           Non-Null Count  Dtype  \n",
      "---  ------           --------------  -----  \n",
      " 0   Bus_name         4078 non-null   object \n",
      " 1   Bus_type         4078 non-null   object \n",
      " 2   Start_time       4078 non-null   object \n",
      " 3   End_time         4078 non-null   object \n",
      " 4   Total_duration   4078 non-null   object \n",
      " 5   Price            4078 non-null   float64\n",
      " 6   Seats_Available  4078 non-null   object \n",
      " 7   Ratings          4078 non-null   float64\n",
      " 8   Route_link       4078 non-null   object \n",
      " 9   Route_name       4078 non-null   object \n",
      "dtypes: float64(2), object(8)\n",
      "memory usage: 318.7+ KB\n",
      "                Bus_name                                   Bus_type  \\\n",
      "0    KSRTC (Kerala) - 52                SWIFT-GARUDA A/C SEATER BUS   \n",
      "1  KSRTC (Kerala) - 1378                              AC MULTI AXLE   \n",
      "2   KSRTC (Kerala) - 129                SWIFT-GARUDA A/C SEATER BUS   \n",
      "3   KSRTC (Kerala) - 235          Swift Deluxe Non AC Air Bus (2+2)   \n",
      "4   KSRTC (Kerala) - 370                              AC MULTI AXLE   \n",
      "5    KSRTC (Kerala) - 97          Swift Deluxe Non AC Air Bus (2+2)   \n",
      "6   KSRTC (Kerala) - 380          Swift Deluxe Non AC Air Bus (2+2)   \n",
      "7   KSRTC (Kerala) - 553  Super Express Non AC Seater Air Bus (2+2)   \n",
      "8    KSRTC (Kerala) - 51          Swift Deluxe Non AC Air Bus (2+2)   \n",
      "9   KSRTC (Kerala) - 789             Super Fast Non AC Seater (2+3)   \n",
      "\n",
      "  Start_time End_time Total_duration  Price     Seats_Available  Ratings  \\\n",
      "0      12:00    20:20        08h 20m  627.0   4 Seats available      4.1   \n",
      "1      13:46    21:25        07h 39m  729.0   3 Seats available      2.5   \n",
      "2      14:15    23:05        08h 50m  627.0  17 Seats available      4.3   \n",
      "3      15:00    01:00        10h 00m  620.0  14 Seats available      4.0   \n",
      "4      15:25    23:45        08h 20m  729.0  28 Seats available      2.9   \n",
      "5      16:00    00:45        08h 45m  567.0  22 Seats available      3.5   \n",
      "6      16:15    01:00        08h 45m  567.0   9 Seats available      4.6   \n",
      "7      16:45    02:15        09h 30m  640.0  17 Seats available      3.5   \n",
      "8      19:00    04:30        09h 30m  640.0  33 Seats available      3.9   \n",
      "9      20:00    03:45        07h 45m  473.0  17 Seats available      3.8   \n",
      "\n",
      "                                          Route_link              Route_name  \n",
      "0  https://www.redbus.in/bus-tickets/bangalore-to...  Bangalore to Kozhikode  \n",
      "1  https://www.redbus.in/bus-tickets/bangalore-to...  Bangalore to Kozhikode  \n",
      "2  https://www.redbus.in/bus-tickets/bangalore-to...  Bangalore to Kozhikode  \n",
      "3  https://www.redbus.in/bus-tickets/bangalore-to...  Bangalore to Kozhikode  \n",
      "4  https://www.redbus.in/bus-tickets/bangalore-to...  Bangalore to Kozhikode  \n",
      "5  https://www.redbus.in/bus-tickets/bangalore-to...  Bangalore to Kozhikode  \n",
      "6  https://www.redbus.in/bus-tickets/bangalore-to...  Bangalore to Kozhikode  \n",
      "7  https://www.redbus.in/bus-tickets/bangalore-to...  Bangalore to Kozhikode  \n",
      "8  https://www.redbus.in/bus-tickets/bangalore-to...  Bangalore to Kozhikode  \n",
      "9  https://www.redbus.in/bus-tickets/bangalore-to...  Bangalore to Kozhikode  \n"
     ]
    }
   ],
   "source": [
    "import pandas as pd\n",
    "\n",
    "print(Final_df)\n",
    "\n",
    "Final_df.info()\n",
    "\n",
    "print(Final_df.head(10))"
   ]
  },
  {
   "cell_type": "code",
   "execution_count": 26,
   "metadata": {},
   "outputs": [
    {
     "name": "stdout",
     "output_type": "stream",
     "text": [
      "Values inserted successfully\n"
     ]
    }
   ],
   "source": [
    "insert_query = ('''INSERT INTO details(Bus_name,Bus_type,Start_time,End_time,Total_duration,Price,Seats_Available,Ratings,Route_link,Route_name)VALUES(%s, %s, %s, %s, %s, %s, %s, %s, %s, %s)''')\n",
    "data =Final_df.values.tolist()\n",
    "try:\n",
    "    cursor.executemany(insert_query, data)\n",
    "    connection.commit()\n",
    "    print(\"Values inserted successfully\")\n",
    "except Exception as e:\n",
    "    print(f\"Error: {e}\")"
   ]
  }
 ],
 "metadata": {
  "kernelspec": {
   "display_name": ".venv",
   "language": "python",
   "name": "python3"
  },
  "language_info": {
   "codemirror_mode": {
    "name": "ipython",
    "version": 3
   },
   "file_extension": ".py",
   "mimetype": "text/x-python",
   "name": "python",
   "nbconvert_exporter": "python",
   "pygments_lexer": "ipython3",
   "version": "3.12.2"
  }
 },
 "nbformat": 4,
 "nbformat_minor": 2
}
